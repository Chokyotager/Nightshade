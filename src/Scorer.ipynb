{
 "cells": [
  {
   "cell_type": "code",
   "execution_count": null,
   "metadata": {},
   "outputs": [],
   "source": [
    "import tensorflow as tf\n",
    "import numpy as np\n",
    "\n",
    "import matplotlib.pyplot as plt\n",
    "\n",
    "import os\n",
    "\n",
    "import data as dat\n",
    "from model import Model\n",
    "\n",
    "import colours as c\n",
    "\n",
    "dir = os.getcwd()\n",
    "dir_main = os.path.dirname(os.path.abspath(dir))"
   ]
  },
  {
   "cell_type": "code",
   "execution_count": null,
   "metadata": {},
   "outputs": [],
   "source": [
    "scorer = dat.Validator()\n",
    "m = Model(scorer.smiles_vocabulary, dropout=False)"
   ]
  },
  {
   "cell_type": "code",
   "execution_count": null,
   "metadata": {},
   "outputs": [],
   "source": [
    "with tf.Session() as session:\n",
    "    \n",
    "    saver = tf.train.Saver()\n",
    "    saver.restore(session, dir_main + \"/trained/Solanaceae-L\")\n",
    "    \n",
    "    print(\"Model restored.\")\n",
    "    \n",
    "    # Score the data iteratively\n",
    "    smiles, labels, weights, smiles_raw = scorer.getEvaluations()\n",
    "    \n",
    "    correct = [0] * scorer.classes_amount\n",
    "    total = [0] * scorer.classes_amount\n",
    "    \n",
    "    for smile, label, weight, smile_raw in zip(smiles, labels, weights, smiles_raw):\n",
    "        \n",
    "        output = session.run([m.output], feed_dict={m.batch_size: 1, m.input: np.expand_dims(smile, 0)})\n",
    "        output = list(np.round(output)[0,0])\n",
    "        \n",
    "        for i in range(len(output)):\n",
    "            \n",
    "            if label[i] != 0.5:\n",
    "            \n",
    "                if output[i] == label[i]:\n",
    "                    correct[i] += 1\n",
    "\n",
    "                total[i] += 1\n",
    "                \n",
    "        print(\"\\nClasses: {}\".format(scorer.classes))\n",
    "        print(\"Correct: {}\".format(correct))\n",
    "        print(\"Total: {}\".format(total))\n",
    "        \n",
    "        percentages = list(np.array(correct)/np.array(total) * 100)\n",
    "        print(\"Percentages: {}\".format(percentages))\n",
    "        \n",
    "    figure = plt.figure(figsize=(20, 5))\n",
    "    plt.bar(scorer.classes, percentages, color=\"blue\")"
   ]
  },
  {
   "cell_type": "code",
   "execution_count": null,
   "metadata": {},
   "outputs": [],
   "source": []
  },
  {
   "cell_type": "code",
   "execution_count": null,
   "metadata": {},
   "outputs": [],
   "source": []
  }
 ],
 "metadata": {
  "kernelspec": {
   "display_name": "Python 3",
   "language": "python",
   "name": "python3"
  },
  "language_info": {
   "codemirror_mode": {
    "name": "ipython",
    "version": 3
   },
   "file_extension": ".py",
   "mimetype": "text/x-python",
   "name": "python",
   "nbconvert_exporter": "python",
   "pygments_lexer": "ipython3",
   "version": "3.6.4"
  }
 },
 "nbformat": 4,
 "nbformat_minor": 2
}
