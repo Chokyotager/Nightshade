{
 "cells": [
  {
   "cell_type": "code",
   "execution_count": null,
   "metadata": {},
   "outputs": [],
   "source": [
    "import tensorflow as tf\n",
    "import numpy as np\n",
    "\n",
    "import matplotlib.pyplot as plt\n",
    "\n",
    "import os\n",
    "\n",
    "import data\n",
    "from model import Model\n",
    "\n",
    "import colours as c\n",
    "\n",
    "dir = os.getcwd()\n",
    "dir_main = os.path.dirname(os.path.abspath(dir))"
   ]
  },
  {
   "cell_type": "code",
   "execution_count": null,
   "metadata": {},
   "outputs": [],
   "source": [
    "d = data.Data()\n",
    "d = data.Scorer()\n",
    "m = Model(d.smiles_vocabulary)"
   ]
  },
  {
   "cell_type": "code",
   "execution_count": null,
   "metadata": {},
   "outputs": [],
   "source": [
    "with tf.Session() as session:\n",
    "    \n",
    "    labels = None\n",
    "    \n",
    "    saver = tf.train.Saver()\n",
    "    saver.restore(session, dir_main + \"/trained/Solanaceae-E\")\n",
    "    \n",
    "    print(\"Model restored.\")\n",
    "    \n",
    "    # Manually evaluate compound\n",
    "    compound_smiles = \"CN1C=CC2=CC(NC(=O)NC3=CC(C)=NS3)=CC=C12\"\n",
    "    \n",
    "    feed_smiles = [d.indexSmiles(compound_smiles, padding=200)]\n",
    "    \n",
    "    predicted = session.run([m.output], feed_dict={m.batch_size: 1, m.input: feed_smiles})\n",
    "    rounded = np.round(predicted[0][0])\n",
    "    \n",
    "    print(c.BLUE + c.BOLD + \"\\nPredicted values:\" + c.END)\n",
    "    print(\"Logistics: {}\".format(predicted[0][0]))\n",
    "    print(\"Rounded: {}\".format(rounded))\n",
    "    print(\"String labels: {}\".format(d.labelsToReadable(rounded)))\n",
    "    \n",
    "    if compound_smiles in d.compounds:\n",
    "        string_labels = d.compounds[compound_smiles][\"labels\"]\n",
    "        labels = [d.classes.index(label) for label in string_labels]\n",
    "        \n",
    "        print(c.RED + c.BOLD + \"\\nLiterature database:\" + c.END)\n",
    "        print(\"Expect: {}\".format(d.createLabels(labels)))\n",
    "        print(\"Tags: {}\".format(string_labels))\n",
    "        \n",
    "    else:\n",
    "        print(c.RED + c.BOLD + \"\\nCompound not in database.\" + c.END)\n",
    "    \n",
    "    print(c.BOLD + \"\\nAvailable classes:\" + c.END)\n",
    "    print(d.classes)\n",
    "    \n",
    "    figure = plt.figure(figsize=(20, 5))\n",
    "    plt.bar(d.classes, predicted[0][0], color=\"blue\")\n",
    "    plt.ylim([0, 1])\n",
    "    \n",
    "    if labels != None:\n",
    "        figure = plt.figure(figsize=(20, 5))\n",
    "        plt.bar(d.classes, d.createLabels(labels), color=\"red\")\n",
    "        plt.ylim([0, 1])"
   ]
  },
  {
   "cell_type": "code",
   "execution_count": null,
   "metadata": {},
   "outputs": [],
   "source": []
  }
 ],
 "metadata": {
  "kernelspec": {
   "display_name": "Python 3",
   "language": "python",
   "name": "python3"
  },
  "language_info": {
   "codemirror_mode": {
    "name": "ipython",
    "version": 3
   },
   "file_extension": ".py",
   "mimetype": "text/x-python",
   "name": "python",
   "nbconvert_exporter": "python",
   "pygments_lexer": "ipython3",
   "version": "3.6.4"
  }
 },
 "nbformat": 4,
 "nbformat_minor": 2
}
