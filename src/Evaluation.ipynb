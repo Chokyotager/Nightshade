{
 "cells": [
  {
   "cell_type": "code",
   "execution_count": null,
   "metadata": {},
   "outputs": [],
   "source": [
    "import tensorflow as tf\n",
    "import numpy as np\n",
    "\n",
    "import matplotlib.pyplot as plt\n",
    "\n",
    "import os\n",
    "\n",
    "import data as dat\n",
    "from model import Model\n",
    "\n",
    "import colours as c\n",
    "\n",
    "dir = os.getcwd()\n",
    "dir_main = os.path.dirname(os.path.abspath(dir))"
   ]
  },
  {
   "cell_type": "code",
   "execution_count": null,
   "metadata": {},
   "outputs": [],
   "source": [
    "data = dat.Data()\n",
    "scorer = dat.Scorer()\n",
    "m = Model(data.smiles_vocabulary, dropout=False)"
   ]
  },
  {
   "cell_type": "code",
   "execution_count": null,
   "metadata": {},
   "outputs": [],
   "source": [
    "with tf.Session() as session:\n",
    "    \n",
    "    # Set to \"scorer\" or \"data\";\n",
    "    # validator should not be used in scoring.\n",
    "    d = scorer\n",
    "    \n",
    "    # Manually evaluate compound\n",
    "    # Be mindful of escape \"\\\" characters in SMILES\n",
    "    compound_smiles = \"OC1=CC=CC2=C(O)C=CC=C12\"\n",
    "    \n",
    "    literature_labels = None\n",
    "    \n",
    "    saver = tf.train.Saver()\n",
    "    saver.restore(session, dir_main + \"/trained/Solanaceae-L\")\n",
    "    \n",
    "    print(\"Model restored.\")\n",
    "    \n",
    "    print(c.GREEN + c.BOLD + c.UNDERLINE + \"\\nAnalysis of compound {}\".format(compound_smiles) + c.END)\n",
    "    \n",
    "    feed_smiles = [d.indexSmiles(compound_smiles, padding=400)]\n",
    "    \n",
    "    predicted = session.run([m.output], feed_dict={m.batch_size: 1, m.input: feed_smiles})\n",
    "    rounded = np.round(predicted[0][0])\n",
    "    \n",
    "    print(c.BLUE + c.BOLD + \"\\nPredicted values:\" + c.END)\n",
    "    print(\"Logistics: {}\".format(predicted[0][0]))\n",
    "    print(\"Rounded: {}\".format(rounded))\n",
    "    print(\"String labels: {}\".format(d.labelsToReadable(rounded)))\n",
    "    \n",
    "    if compound_smiles in d.compounds:\n",
    "        string_labels = d.compounds[compound_smiles][\"labels\"]\n",
    "        negative_labels = d.compounds[compound_smiles][\"negative\"]\n",
    "        literature_labels, _ = d.createLabels(string_labels, negative_labels, map_neutrals=True)\n",
    "        \n",
    "        literature_labels = list(literature_labels)\n",
    "        \n",
    "        print(c.RED + c.BOLD + \"\\nLiterature database:\" + c.END)\n",
    "        print(\"Expect: {}\".format(literature_labels))\n",
    "        print(\"Tags: {}\".format(string_labels))\n",
    "        \n",
    "    else:\n",
    "        print(c.RED + c.BOLD + \"\\nCompound not in database.\" + c.END)\n",
    "    \n",
    "    print(c.BOLD + \"\\nAvailable classes:\" + c.END)\n",
    "    print(\"Current: {}\".format(d.classes))\n",
    "    print(\"Training: {}\".format(data.classes))\n",
    "    print(\"Scorer: {}\".format(scorer.classes))\n",
    "    \n",
    "    figure = plt.figure(figsize=(20, 5))\n",
    "    plt.bar(d.classes, predicted[0][0], color=\"blue\")\n",
    "    plt.ylim([0, 1])\n",
    "    \n",
    "    if literature_labels != None:\n",
    "        figure = plt.figure(figsize=(20, 5))\n",
    "        plt.bar(d.classes, literature_labels, color=\"red\")\n",
    "        plt.ylim([0, 1])"
   ]
  },
  {
   "cell_type": "code",
   "execution_count": null,
   "metadata": {},
   "outputs": [],
   "source": []
  },
  {
   "cell_type": "code",
   "execution_count": null,
   "metadata": {},
   "outputs": [],
   "source": []
  }
 ],
 "metadata": {
  "kernelspec": {
   "display_name": "Python 3",
   "language": "python",
   "name": "python3"
  },
  "language_info": {
   "codemirror_mode": {
    "name": "ipython",
    "version": 3
   },
   "file_extension": ".py",
   "mimetype": "text/x-python",
   "name": "python",
   "nbconvert_exporter": "python",
   "pygments_lexer": "ipython3",
   "version": "3.6.4"
  }
 },
 "nbformat": 4,
 "nbformat_minor": 2
}
