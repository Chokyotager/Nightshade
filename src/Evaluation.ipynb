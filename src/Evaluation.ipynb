{
 "cells": [
  {
   "cell_type": "code",
   "execution_count": 2,
   "metadata": {},
   "outputs": [],
   "source": [
    "import tensorflow as tf\n",
    "import numpy as np\n",
    "\n",
    "import matplotlib.pyplot as plt\n",
    "\n",
    "import os\n",
    "\n",
    "from data import Data\n",
    "from model import Model\n",
    "\n",
    "dir = os.getcwd()\n",
    "dir_main = os.path.dirname(os.path.abspath(dir))"
   ]
  },
  {
   "cell_type": "code",
   "execution_count": 3,
   "metadata": {},
   "outputs": [
    {
     "name": "stdout",
     "output_type": "stream",
     "text": [
      "WARNING:tensorflow:From /Library/Frameworks/Python.framework/Versions/3.6/lib/python3.6/site-packages/tensorflow/python/ops/clip_ops.py:110: calling reduce_sum (from tensorflow.python.ops.math_ops) with keep_dims is deprecated and will be removed in a future version.\n",
      "Instructions for updating:\n",
      "keep_dims is deprecated, use keepdims instead\n"
     ]
    }
   ],
   "source": [
    "d = Data()\n",
    "m = Model(d.smiles_vocabulary)"
   ]
  },
  {
   "cell_type": "code",
   "execution_count": 39,
   "metadata": {},
   "outputs": [
    {
     "name": "stdout",
     "output_type": "stream",
     "text": [
      "INFO:tensorflow:Restoring parameters from /Users/Yuen_In/Desktop/Programming/Nightshade/trained/Solanaceae-E\n",
      "Model restored.\n",
      "[array([[7.3392415e-01, 8.6957618e-04, 1.2731567e-03, 2.8238329e-03,\n",
      "        1.6738701e-03, 7.4303463e-02, 3.8515969e-05, 8.2440088e-03,\n",
      "        1.9109799e-03, 5.1862132e-03, 1.7062968e-01, 7.4879569e-04]],\n",
      "      dtype=float32)]\n",
      "\n",
      "Compound not in database.\n",
      "['NR-AHR', 'NR-AR-LBD', 'NR-AR', 'NR-aromatase', 'NR-ER-LBD', 'NR-ER', 'NR-PPAR-gamma', 'SR-ARE', 'SR-ATAD5', 'SR-HSE', 'SR-MMP', 'SR-p53']\n"
     ]
    }
   ],
   "source": [
    "with tf.Session() as session:\n",
    "    \n",
    "    saver = tf.train.Saver()\n",
    "    saver.restore(session, dir_main + \"/trained/Solanaceae-E\")\n",
    "    \n",
    "    print(\"Model restored.\")\n",
    "    \n",
    "    # Manually evaluate compound\n",
    "    compound_smiles = \"NNC(=O)C1=CC=C(O)C=C1\"\n",
    "    \n",
    "    feed_smiles = [d.indexSmiles(compound_smiles, padding=200)]\n",
    "    \n",
    "    predicted = session.run([m.output], feed_dict={m.batch_size: 1, m.input: feed_smiles})\n",
    "    \n",
    "    print(predicted)\n",
    "    \n",
    "    if compound_smiles in d.compounds:\n",
    "        string_labels = d.compounds[compound_smiles][\"labels\"]\n",
    "        labels = [d.classes.index(label) for label in string_labels]\n",
    "        \n",
    "        print(\"\\nLiterature database:\")\n",
    "        print(string_labels)\n",
    "        print(labels)\n",
    "        \n",
    "    else:\n",
    "        print(\"\\nCompound not in database.\")\n",
    "        print(d.classes)"
   ]
  },
  {
   "cell_type": "code",
   "execution_count": null,
   "metadata": {},
   "outputs": [],
   "source": []
  }
 ],
 "metadata": {
  "kernelspec": {
   "display_name": "Python 3",
   "language": "python",
   "name": "python3"
  },
  "language_info": {
   "codemirror_mode": {
    "name": "ipython",
    "version": 3
   },
   "file_extension": ".py",
   "mimetype": "text/x-python",
   "name": "python",
   "nbconvert_exporter": "python",
   "pygments_lexer": "ipython3",
   "version": "3.6.4"
  }
 },
 "nbformat": 4,
 "nbformat_minor": 2
}
